{
 "cells": [
  {
   "cell_type": "code",
   "execution_count": 3,
   "id": "79f04743-b215-4d00-aace-0c356363237f",
   "metadata": {},
   "outputs": [
    {
     "name": "stdout",
     "output_type": "stream",
     "text": [
      "De geanonimiseerde tekst is opgeslagen.\n"
     ]
    }
   ],
   "source": [
    "from deduce import Deduce\n",
    "\n",
    "with open('IN_knmp.txt', 'r', encoding='utf-8') as file:\n",
    "    text = file.read()\n",
    "\n",
    "deduce = Deduce()\n",
    "\n",
    "doc = deduce.deidentify(text)s\n",
    "\n",
    "deidentified_text = doc.deidentified_text\n",
    "\n",
    "with open('test.txt', 'w', encoding='utf-8') as file:\n",
    "    file.write(deidentified_text)\n",
    "\n",
    "print(\"De geanonimiseerde tekst is opgeslagen.\")"
   ]
  },
  {
   "cell_type": "code",
   "execution_count": null,
   "id": "79a263ab-7412-4cfd-9709-d4b261b14630",
   "metadata": {},
   "outputs": [],
   "source": []
  }
 ],
 "metadata": {
  "kernelspec": {
   "display_name": "Python 3 (ipykernel)",
   "language": "python",
   "name": "python3"
  },
  "language_info": {
   "codemirror_mode": {
    "name": "ipython",
    "version": 3
   },
   "file_extension": ".py",
   "mimetype": "text/x-python",
   "name": "python",
   "nbconvert_exporter": "python",
   "pygments_lexer": "ipython3",
   "version": "3.12.4"
  }
 },
 "nbformat": 4,
 "nbformat_minor": 5
}
